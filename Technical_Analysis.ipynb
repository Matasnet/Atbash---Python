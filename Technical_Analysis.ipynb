{
  "nbformat": 4,
  "nbformat_minor": 0,
  "metadata": {
    "colab": {
      "provenance": [],
      "authorship_tag": "ABX9TyOS+qrF7mfSCbFHhWZklTk7",
      "include_colab_link": true
    },
    "kernelspec": {
      "name": "python3",
      "display_name": "Python 3"
    },
    "language_info": {
      "name": "python"
    }
  },
  "cells": [
    {
      "cell_type": "markdown",
      "metadata": {
        "id": "view-in-github",
        "colab_type": "text"
      },
      "source": [
        "<a href=\"https://colab.research.google.com/github/Matasnet/Atbash---Python/blob/main/Technical_Analysis.ipynb\" target=\"_parent\"><img src=\"https://colab.research.google.com/assets/colab-badge.svg\" alt=\"Open In Colab\"/></a>"
      ]
    },
    {
      "cell_type": "markdown",
      "source": [
        "#Technical Analysis with TradingView in Python\n",
        "\n",
        "If you dont have installed tradingview_ta\n",
        "Open terminal and past pip install tradingview_ta\n",
        "If you use Google Colab past !pip install tradingview_ta\n",
        "Remeber about \"!\""
      ],
      "metadata": {
        "id": "yRXh67Tyqn8X"
      }
    },
    {
      "cell_type": "code",
      "source": [
        "!pip install tradingview_ta"
      ],
      "metadata": {
        "colab": {
          "base_uri": "https://localhost:8080/"
        },
        "id": "jz09i_i4n3IB",
        "outputId": "6129ff86-5d27-4ae7-aa6f-eec987d6a783"
      },
      "execution_count": 22,
      "outputs": [
        {
          "output_type": "stream",
          "name": "stdout",
          "text": [
            "Requirement already satisfied: tradingview_ta in /usr/local/lib/python3.10/dist-packages (3.3.0)\n",
            "Requirement already satisfied: requests in /usr/local/lib/python3.10/dist-packages (from tradingview_ta) (2.31.0)\n",
            "Requirement already satisfied: charset-normalizer<4,>=2 in /usr/local/lib/python3.10/dist-packages (from requests->tradingview_ta) (3.3.0)\n",
            "Requirement already satisfied: idna<4,>=2.5 in /usr/local/lib/python3.10/dist-packages (from requests->tradingview_ta) (3.4)\n",
            "Requirement already satisfied: urllib3<3,>=1.21.1 in /usr/local/lib/python3.10/dist-packages (from requests->tradingview_ta) (2.0.7)\n",
            "Requirement already satisfied: certifi>=2017.4.17 in /usr/local/lib/python3.10/dist-packages (from requests->tradingview_ta) (2023.7.22)\n"
          ]
        }
      ]
    },
    {
      "cell_type": "code",
      "execution_count": 46,
      "metadata": {
        "id": "SBGQQ2ttnsUo"
      },
      "outputs": [],
      "source": [
        "from tradingview_ta import TA_Handler, Exchange, Interval\n",
        "\n",
        "handler = TA_Handler(\n",
        "    symbol='WIG20',\n",
        "    screener='cfd',\n",
        "    exchange='GPW',\n",
        "    interval=\"1d\"\n",
        "    )"
      ]
    },
    {
      "cell_type": "code",
      "source": [
        "handler.get_analysis().summary"
      ],
      "metadata": {
        "colab": {
          "base_uri": "https://localhost:8080/"
        },
        "id": "s2EfNuWiMKJq",
        "outputId": "8be032b8-3515-4cfb-ca78-7799762c3831"
      },
      "execution_count": 31,
      "outputs": [
        {
          "output_type": "execute_result",
          "data": {
            "text/plain": [
              "{'RECOMMENDATION': 'BUY', 'BUY': 12, 'SELL': 3, 'NEUTRAL': 10}"
            ]
          },
          "metadata": {},
          "execution_count": 31
        }
      ]
    },
    {
      "cell_type": "code",
      "source": [
        "handler.get_analysis().indicators"
      ],
      "metadata": {
        "id": "jKzc6FfLpCCG"
      },
      "execution_count": null,
      "outputs": []
    },
    {
      "cell_type": "code",
      "source": [
        "handler.get_analysis().indicators['open']\n"
      ],
      "metadata": {
        "colab": {
          "base_uri": "https://localhost:8080/"
        },
        "id": "5HrXwoE4OJxK",
        "outputId": "4a4bf20c-45a9-4b55-88a0-b47a7eaa58cf"
      },
      "execution_count": 47,
      "outputs": [
        {
          "output_type": "execute_result",
          "data": {
            "text/plain": [
              "2028.21"
            ]
          },
          "metadata": {},
          "execution_count": 47
        }
      ]
    }
  ]
}